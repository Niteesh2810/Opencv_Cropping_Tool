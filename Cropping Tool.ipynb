{
 "cells": [
  {
   "cell_type": "markdown",
   "id": "25331451",
   "metadata": {},
   "source": [
    "# <CENTER>CROPPING TOOL"
   ]
  },
  {
   "cell_type": "markdown",
   "id": "311b3e4e",
   "metadata": {},
   "source": [
    "### <I>INSTALLING DEPENDENCIES"
   ]
  },
  {
   "cell_type": "code",
   "execution_count": null,
   "id": "b26d608d",
   "metadata": {},
   "outputs": [],
   "source": [
    "!pip install opencv-python"
   ]
  },
  {
   "cell_type": "markdown",
   "id": "6e9cf75e",
   "metadata": {},
   "source": [
    "### <i>IMPORTING MODULES"
   ]
  },
  {
   "cell_type": "code",
   "execution_count": 1,
   "id": "e85e08b4",
   "metadata": {},
   "outputs": [],
   "source": [
    "import cv2\n",
    "import matplotlib.pyplot as plt\n",
    "import os\n",
    "from tkinter import *"
   ]
  },
  {
   "cell_type": "markdown",
   "id": "a8590aa3",
   "metadata": {},
   "source": [
    "### <I>READING IMAGE"
   ]
  },
  {
   "cell_type": "code",
   "execution_count": 2,
   "id": "07f2fa42",
   "metadata": {},
   "outputs": [],
   "source": [
    "def read_img():\n",
    "    img=cv2.imread('objects.jpg')\n",
    "    new_img=cv2.resize(img,(700,700))\n",
    "    return new_img"
   ]
  },
  {
   "cell_type": "code",
   "execution_count": 3,
   "id": "0df7aab3",
   "metadata": {},
   "outputs": [],
   "source": [
    "img=read_img()"
   ]
  },
  {
   "cell_type": "code",
   "execution_count": 4,
   "id": "eef04215",
   "metadata": {},
   "outputs": [
    {
     "data": {
      "text/plain": [
       "(700, 700, 3)"
      ]
     },
     "execution_count": 4,
     "metadata": {},
     "output_type": "execute_result"
    }
   ],
   "source": [
    "img.shape"
   ]
  },
  {
   "cell_type": "markdown",
   "id": "d4d5e105",
   "metadata": {},
   "source": [
    "###### EXTRA"
   ]
  },
  {
   "cell_type": "markdown",
   "id": "639729c7",
   "metadata": {},
   "source": [
    "Resizing is done to match the image of the window size so that when we save the final cropped image we will be save the correct image."
   ]
  },
  {
   "cell_type": "markdown",
   "id": "75fe6597",
   "metadata": {},
   "source": [
    "#### MOUSE CLICKING EVENT VALUES"
   ]
  },
  {
   "cell_type": "markdown",
   "id": "04fa6983",
   "metadata": {},
   "source": [
    "0  --> Cursor Moving\n",
    "\n",
    "1  --> Left Click Down\n",
    "<br>4  --> Left Click Up\n",
    "\n",
    "2  --> Right Click Down\n",
    "<br>5  --> Right Click Up\n"
   ]
  },
  {
   "cell_type": "markdown",
   "id": "d25ff662",
   "metadata": {},
   "source": [
    "### <I>FUNCTION FOR TKINTER CONFIRMATION WINDOW"
   ]
  },
  {
   "cell_type": "code",
   "execution_count": 5,
   "id": "f9dcc982",
   "metadata": {},
   "outputs": [],
   "source": [
    "def confirmation():\n",
    "    global root\n",
    "    root=Tk()\n",
    "    root.geometry('530x200')\n",
    "    \n",
    "    label=Label(root,text=\"Wanna save your cropped image???\",font=('Arial',20))\n",
    "    label.place(x=40,y=30)\n",
    "    \n",
    "    button1=Button(root,text='YES',height=1,width=10,bg='white',font='bold',activebackground='cyan',command=save_image)\n",
    "    button1.place(x=125,y=100)\n",
    "    \n",
    "    button2=Button(root,text='NO',height=1,width=10,bg='white',font='bold',activebackground='cyan',command=root.destroy)\n",
    "    button2.place(x=325,y=100)\n",
    "    \n",
    "    root.mainloop()"
   ]
  },
  {
   "cell_type": "markdown",
   "id": "40fb062d",
   "metadata": {},
   "source": [
    "### <I>FUNCTION FOR SAVING IMAGE"
   ]
  },
  {
   "cell_type": "code",
   "execution_count": 6,
   "id": "25a20be3",
   "metadata": {},
   "outputs": [],
   "source": [
    "def save_image():\n",
    "    global crp_img_count\n",
    "    cv2.imwrite(os.path.join('Cropped images','cropped_image'+str(crp_img_count)+'.jpg'),crp_img)\n",
    "    root.destroy()\n",
    "    print(\"CROPPED IMAGE SAVED!!!\")\n",
    "    crp_img_count+=1"
   ]
  },
  {
   "cell_type": "markdown",
   "id": "d921e490",
   "metadata": {},
   "source": [
    "### <I>INITIALIZING REQUIRED VARIABLES"
   ]
  },
  {
   "cell_type": "code",
   "execution_count": 7,
   "id": "8c51a8c0",
   "metadata": {},
   "outputs": [],
   "source": [
    "flag=False\n",
    "ix,iy=-1,-1    "
   ]
  },
  {
   "cell_type": "code",
   "execution_count": 8,
   "id": "e9712e61",
   "metadata": {},
   "outputs": [],
   "source": [
    "crp_img_count=0"
   ]
  },
  {
   "cell_type": "markdown",
   "id": "0fa218d9",
   "metadata": {},
   "source": [
    "ix,iy           ---> Stores the initial values of x and y  <br>\n",
    "flag            ---> Indicates whether we can draw or not  <br>\n",
    "crp_img_count   ---> Keeps count of the no of cropped images  "
   ]
  },
  {
   "cell_type": "markdown",
   "id": "0aa8cab6",
   "metadata": {},
   "source": [
    "### <I>FUNCTION FOR CROPPING"
   ]
  },
  {
   "cell_type": "code",
   "execution_count": 9,
   "id": "72a06a6c",
   "metadata": {},
   "outputs": [],
   "source": [
    "def crop(event,x,y,flags,param):\n",
    "    \n",
    "    if event==1:                      \n",
    "        \n",
    "        global flag,ix,iy,img,crp_img\n",
    "        flag=True\n",
    "        ix=x\n",
    "        iy=y\n",
    "        \n",
    "    elif event==0:\n",
    "        \n",
    "        if flag==True:\n",
    "            img=read_img()\n",
    "            cv2.rectangle(img,(ix,iy),(x,y),(102,102,255),2)\n",
    "            \n",
    "        else:\n",
    "            img=read_img()\n",
    "            cv2.line(img,(x,y),(x,img.shape[0]),(204,255,153),1)\n",
    "            cv2.line(img,(x,y),(img.shape[1],y),(204,255,153),1)\n",
    "            \n",
    "    elif event==4:\n",
    "        \n",
    "        flag=False\n",
    "        img=read_img()\n",
    "        cv2.rectangle(img,(ix,iy),(x,y),(102,102,255),1)\n",
    "        crp_img=img[iy+1:y,ix+1:x]\n",
    "        cv2.namedWindow('CROPPED PHOTO',cv2.WINDOW_NORMAL)\n",
    "        cv2.resizeWindow('CROPPED PHOTO',300,300)\n",
    "        \n",
    "        while True:\n",
    "            cv2.imshow('CROPPED PHOTO',crp_img)\n",
    "            if cv2.waitKey(1) & 0xFF==ord('c'):\n",
    "                break\n",
    "                \n",
    "        cv2.destroyWindow('CROPPED PHOTO')\n",
    "        confirmation()    "
   ]
  },
  {
   "cell_type": "markdown",
   "id": "e5014b5d",
   "metadata": {},
   "source": [
    "On click, the flag value is set to True and ix,iy is initialized to the coordinates of x,y. <br><br>\n",
    "\n",
    "On cursor movement, the lines are displayed in order to be able to precisely crop the image or a rectanlge is drawn to crop the image.   <br><br>\n",
    "\n",
    "On release click, the flag value is set to False to avoid drawing. We display the cropped image in a separate window and also use tkinter to ask for confirmation and then save the image. <br><br>\n",
    "\n",
    "iy+1 , ix+1  ---> +1 is given to avoid the rectangle from appearing in the cropped image  "
   ]
  },
  {
   "cell_type": "markdown",
   "id": "c9bf931f",
   "metadata": {},
   "source": [
    "### <I>RESIZING WINDOW"
   ]
  },
  {
   "cell_type": "code",
   "execution_count": 10,
   "id": "c2baac72",
   "metadata": {},
   "outputs": [],
   "source": [
    "cv2.namedWindow('PHOTO',cv2.WINDOW_NORMAL)\n",
    "cv2.resizeWindow('PHOTO',700,700)\n",
    "cv2.setMouseCallback('PHOTO',crop)"
   ]
  },
  {
   "cell_type": "markdown",
   "id": "d96dd056",
   "metadata": {},
   "source": [
    "### <I>MAIN IMAGE WINDOW"
   ]
  },
  {
   "cell_type": "code",
   "execution_count": 11,
   "id": "53043f9d",
   "metadata": {},
   "outputs": [
    {
     "name": "stdout",
     "output_type": "stream",
     "text": [
      "CROPPED IMAGE SAVED!!!\n",
      "CROPPED IMAGE SAVED!!!\n",
      "CROPPED IMAGE SAVED!!!\n"
     ]
    }
   ],
   "source": [
    "while True:\n",
    "    cv2.imshow('PHOTO',img)\n",
    "    if cv2.waitKey(1) & 0xFF==ord('q'):\n",
    "        break\n",
    "cv2.destroyAllWindows()"
   ]
  }
 ],
 "metadata": {
  "kernelspec": {
   "display_name": "Python 3 (ipykernel)",
   "language": "python",
   "name": "python3"
  },
  "language_info": {
   "codemirror_mode": {
    "name": "ipython",
    "version": 3
   },
   "file_extension": ".py",
   "mimetype": "text/x-python",
   "name": "python",
   "nbconvert_exporter": "python",
   "pygments_lexer": "ipython3",
   "version": "3.10.9"
  }
 },
 "nbformat": 4,
 "nbformat_minor": 5
}
